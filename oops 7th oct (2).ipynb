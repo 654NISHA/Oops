{
 "cells": [
  {
   "cell_type": "markdown",
   "id": "86b47d4f-860e-4702-83a0-0145887ab41a",
   "metadata": {},
   "source": [
    "### Oops\n",
    "---\n"
   ]
  },
  {
   "cell_type": "markdown",
   "id": "74cfb1f3-a71f-4b81-adcd-cec0d96bc5be",
   "metadata": {},
   "source": [
    "### Problem 1: Bank Account Create a class representing a bank account with attributes like account number, account holder name, and balance. Implement methods to deposit and withdraw money from the account."
   ]
  },
  {
   "cell_type": "code",
   "execution_count": 32,
   "id": "8df00036-2d19-4698-828b-4e84798bf4c1",
   "metadata": {},
   "outputs": [],
   "source": [
    "class bank_account :\n",
    "    \n",
    "    def __init__(self, account_no, name, balance):\n",
    "        self.account_no = account_no\n",
    "        self.name = name\n",
    "        self.balance = balance\n",
    "\n",
    "    def account_details(self) :\n",
    "        print(\"Account number:\"+self.account_no+\"   Holder name:\"+self.name)\n",
    "    \n",
    "    def deposit(self,amount):\n",
    "        self.balance+=amount\n",
    "        print(\"Account balance:\",self.balance)\n",
    "    \n",
    "    def withdraw(self,amount):\n",
    "        if amount<=self.balance:\n",
    "            self.balance-=amount\n",
    "            return amount\n",
    "        else:\n",
    "            return \"Not enough balance\"\n",
    "    \n",
    "    def get_balance(self):\n",
    "        return self.balance"
   ]
  },
  {
   "cell_type": "code",
   "execution_count": 33,
   "id": "42876017-f05d-4625-ac2e-9e23e8f3f964",
   "metadata": {},
   "outputs": [],
   "source": [
    "user1=bank_account(\"123456\",\"abc\",5000)"
   ]
  },
  {
   "cell_type": "code",
   "execution_count": 34,
   "id": "379a9287-58e1-4828-a294-44789079df91",
   "metadata": {},
   "outputs": [
    {
     "name": "stdout",
     "output_type": "stream",
     "text": [
      "Account number:123456   Holder name:abc\n"
     ]
    }
   ],
   "source": [
    "user1.account_details()"
   ]
  },
  {
   "cell_type": "code",
   "execution_count": 35,
   "id": "c4311f9b-0a1f-4311-812c-a21d3813f20c",
   "metadata": {},
   "outputs": [
    {
     "data": {
      "text/plain": [
       "5000"
      ]
     },
     "execution_count": 35,
     "metadata": {},
     "output_type": "execute_result"
    }
   ],
   "source": [
    "user1.get_balance()"
   ]
  },
  {
   "cell_type": "code",
   "execution_count": 36,
   "id": "b84bb636-f1dd-4937-a9dd-f2af8d8fa1c9",
   "metadata": {},
   "outputs": [
    {
     "name": "stdout",
     "output_type": "stream",
     "text": [
      "Account balance: 5500\n"
     ]
    }
   ],
   "source": [
    "user1.deposit(500)"
   ]
  },
  {
   "cell_type": "code",
   "execution_count": 37,
   "id": "8d62cab9-dfb1-4d1b-883b-a8a11bc67d1b",
   "metadata": {},
   "outputs": [
    {
     "data": {
      "text/plain": [
       "5500"
      ]
     },
     "execution_count": 37,
     "metadata": {},
     "output_type": "execute_result"
    }
   ],
   "source": [
    "user1.get_balance()"
   ]
  },
  {
   "cell_type": "code",
   "execution_count": 38,
   "id": "11028e94-960f-4c9c-8b5b-2fb7bbc4a0e8",
   "metadata": {},
   "outputs": [
    {
     "data": {
      "text/plain": [
       "1000"
      ]
     },
     "execution_count": 38,
     "metadata": {},
     "output_type": "execute_result"
    }
   ],
   "source": [
    "user1.withdraw(1000)"
   ]
  },
  {
   "cell_type": "code",
   "execution_count": 39,
   "id": "12913608-ce05-4299-9a4a-df5384b12b16",
   "metadata": {},
   "outputs": [
    {
     "data": {
      "text/plain": [
       "4500"
      ]
     },
     "execution_count": 39,
     "metadata": {},
     "output_type": "execute_result"
    }
   ],
   "source": [
    "user1.get_balance()"
   ]
  },
  {
   "cell_type": "markdown",
   "id": "79394f83-d3bf-43f9-ae90-1dec265f7f38",
   "metadata": {},
   "source": [
    "### Problem 2: Employee Management Create a class representing an employee with attributes like employee ID, name, and salary. Implement methods to calculate the yearly bonus and display employee details."
   ]
  },
  {
   "cell_type": "code",
   "execution_count": 25,
   "id": "fe85e6f1-0463-4772-a213-e0de9a8745dc",
   "metadata": {},
   "outputs": [],
   "source": [
    "class employee :\n",
    "    \n",
    "    def __init__(self, employee_id, name, salary):\n",
    "        self.id = employee_id\n",
    "        self.name = name\n",
    "        self.salary = salary\n",
    "    \n",
    "    def employee_details(self):\n",
    "        print(\"Employee ID: \"+self.id+\"\\nEmployee name: \"+self.name+\"\\nEmployee salary anually: \"+str(self.salary))\n",
    "     \n",
    "    def bonus(self):\n",
    "        s=int(input(\"Enter the bonus in percentage:\"))\n",
    "        print(\"Bonus amount:\",s*self.salary/100)\n",
    "        print(\"Annual salary after adding bonus:\",self.salary+s*self.salary/100)"
   ]
  },
  {
   "cell_type": "code",
   "execution_count": 26,
   "id": "e998d800-3f69-4b47-8300-5fead58fd1e8",
   "metadata": {},
   "outputs": [],
   "source": [
    "samir = employee(\"12\", \"Samir\", 100000)"
   ]
  },
  {
   "cell_type": "code",
   "execution_count": 27,
   "id": "5233a961-0a7e-4389-8d17-26387b283018",
   "metadata": {},
   "outputs": [
    {
     "name": "stdout",
     "output_type": "stream",
     "text": [
      "Employee ID: 12\n",
      "Employee name: Samir\n",
      "Employee salary anually: 100000\n"
     ]
    }
   ],
   "source": [
    "samir.employee_details()"
   ]
  },
  {
   "cell_type": "code",
   "execution_count": 28,
   "id": "f203c2eb-f6d5-4e77-b6f8-33d7720e0a63",
   "metadata": {},
   "outputs": [
    {
     "name": "stdin",
     "output_type": "stream",
     "text": [
      "Enter the bonus in percentage: 5\n"
     ]
    },
    {
     "name": "stdout",
     "output_type": "stream",
     "text": [
      "Bonus amount: 5000.0\n",
      "Annual salary after adding bonus: 105000.0\n"
     ]
    }
   ],
   "source": [
    "samir.bonus()"
   ]
  },
  {
   "cell_type": "markdown",
   "id": "d51370c3-8bef-4f3f-b416-5b77d194056e",
   "metadata": {},
   "source": [
    "### Problem 3: Vehicle Rental Create a class representing a vehicle rental system. Implement methods to rent a vehicle, return a vehicle, and display available vehicles."
   ]
  },
  {
   "cell_type": "code",
   "execution_count": 35,
   "id": "4d7b6328-0266-4c2a-9972-9d4e3ab9969d",
   "metadata": {},
   "outputs": [],
   "source": [
    "class vehicle_rent :\n",
    "    \n",
    "    def __init__(self):\n",
    "        self.available = True\n",
    "        self.available_vehicle = [\"Honda\", \"Toyota\", \"Ford\"]\n",
    "        \n",
    "    def display_available(self):\n",
    "        return self.available_vehicle\n",
    "        \n",
    "    def rent_vehicle(self,vehicle):\n",
    "        for v in self.available_vehicle:\n",
    "            if (v==vehicle and self.available == True):\n",
    "                self.available = False\n",
    "                self.available_vehicle.remove(v)\n",
    "                return f\"{vehicle} is available.\"\n",
    "            else:\n",
    "                return f\"{vehicle} is not available.\"\n",
    "            \n",
    "    def return_vehicle(self, vehicle):\n",
    "        for v  in self.available_vehicle:\n",
    "            if (self.available == False):\n",
    "                self.available = True\n",
    "                self.available_vehicle.append(v)\n",
    "                return \"Renturned:\"+ vehicle\n",
    "            else:\n",
    "                return \"Vehicle already returned\""
   ]
  },
  {
   "cell_type": "code",
   "execution_count": 36,
   "id": "85f38688-4f07-4e4a-8bfc-d2858d433f6e",
   "metadata": {},
   "outputs": [],
   "source": [
    "vehicle = vehicle_rent()"
   ]
  },
  {
   "cell_type": "code",
   "execution_count": 37,
   "id": "44cd1cf8-9ba8-44fe-a0e3-f85fe0258719",
   "metadata": {},
   "outputs": [
    {
     "data": {
      "text/plain": [
       "['Honda', 'Toyota', 'Ford']"
      ]
     },
     "execution_count": 37,
     "metadata": {},
     "output_type": "execute_result"
    }
   ],
   "source": [
    "vehicle.display_available()"
   ]
  },
  {
   "cell_type": "code",
   "execution_count": 38,
   "id": "0363f5e4-7af8-413c-8e21-3dd15d073626",
   "metadata": {},
   "outputs": [
    {
     "data": {
      "text/plain": [
       "'Honda is available.'"
      ]
     },
     "execution_count": 38,
     "metadata": {},
     "output_type": "execute_result"
    }
   ],
   "source": [
    "vehicle.rent_vehicle(\"Honda\")"
   ]
  },
  {
   "cell_type": "code",
   "execution_count": 39,
   "id": "e0563435-ad4e-4736-8d7d-84394e4b343a",
   "metadata": {},
   "outputs": [
    {
     "data": {
      "text/plain": [
       "['Toyota', 'Ford']"
      ]
     },
     "execution_count": 39,
     "metadata": {},
     "output_type": "execute_result"
    }
   ],
   "source": [
    "vehicle.display_available()"
   ]
  },
  {
   "cell_type": "code",
   "execution_count": 40,
   "id": "5d8db2ea-fd5c-4d47-b95a-913bcd94fea5",
   "metadata": {},
   "outputs": [
    {
     "data": {
      "text/plain": [
       "'Renturned:Honda'"
      ]
     },
     "execution_count": 40,
     "metadata": {},
     "output_type": "execute_result"
    }
   ],
   "source": [
    "vehicle.return_vehicle(\"Honda\")"
   ]
  },
  {
   "cell_type": "markdown",
   "id": "fe20b748-65b1-4f4e-8c6f-79bfe7334987",
   "metadata": {},
   "source": [
    "### Problem 4: Library Catalog Create classes representing a library and a book. Implement methods to add books to the library, borrow books, and display available books."
   ]
  },
  {
   "cell_type": "code",
   "execution_count": 1,
   "id": "4431b380-ee7a-4662-93d7-350b1cbecaa5",
   "metadata": {},
   "outputs": [],
   "source": [
    "class book :\n",
    "    \n",
    "    def __init__(self, title, author, code) :\n",
    "        self.title = title\n",
    "        self.author = author\n",
    "        self.code = code\n",
    "        self.available = True\n",
    "        \n",
    "    def __str__(self):\n",
    "        return f\"{self.title} by {self.author} (Code: {self.code})\"\n",
    "        \n",
    "class library(book) :\n",
    "    \n",
    "    def __init__(self):\n",
    "        self.books = {}\n",
    "    \n",
    "    def add_book(self, book):\n",
    "        if book.code not in self.books:\n",
    "            self.books[book.code] = book\n",
    "        else:\n",
    "            print(f\"{book} already in the exists\")\n",
    "        \n",
    "    def display_available_book(self):\n",
    "        available_books=[book for book in self.books.values() if book.available==True]\n",
    "        if available_books:\n",
    "            for book in available_books:\n",
    "                print(book)\n",
    "        else:\n",
    "            print(\"No books available\")\n",
    "     \n",
    "    def borrow_book(self, book_code) :\n",
    "        for i in self.books:\n",
    "            if book_code.available == True and i==book_code:\n",
    "                book_code.available = False\n",
    "                return f\"You can borrow the book: {book_code}\"\n",
    "            else :\n",
    "                return f\"Already borrow the book: {book_code}\"\n",
    "            \n",
    "    def return_book(self, book):\n",
    "        for i in self.books :\n",
    "            if book.available == False and i==book :\n",
    "                book.available = True\n",
    "                return f\"Returned: {book}\"\n",
    "            else :\n",
    "                return f\"Already returned the book: {book}\"\n",
    "        "
   ]
  },
  {
   "cell_type": "code",
   "execution_count": 2,
   "id": "6c8e27fc-434f-437f-8bf0-045c15a56aa4",
   "metadata": {},
   "outputs": [],
   "source": [
    "book1 = book(\"The Great Gatsby\", \"F. Scott Fitzgerald\", \"101\")\n",
    "book2 = book(\"To Kill a Mockingbird\", \"Harper Lee\", \"102\")\n",
    "book3 = book(\"1984\", \"George Orwell\", \"103\")"
   ]
  },
  {
   "cell_type": "code",
   "execution_count": 3,
   "id": "4ef893d4-476c-47bb-b0f6-d44b9cf10035",
   "metadata": {},
   "outputs": [],
   "source": [
    "lab = library()"
   ]
  },
  {
   "cell_type": "code",
   "execution_count": 4,
   "id": "44e1fe19-2812-446e-8f8e-3007a544d6ce",
   "metadata": {},
   "outputs": [],
   "source": [
    "lab.add_book(book1)\n",
    "lab.add_book(book2)\n",
    "lab.add_book(book3)"
   ]
  },
  {
   "cell_type": "code",
   "execution_count": 5,
   "id": "9e9afde4-62de-47ac-af1a-7d8947b95ce1",
   "metadata": {},
   "outputs": [
    {
     "name": "stdout",
     "output_type": "stream",
     "text": [
      "The Great Gatsby by F. Scott Fitzgerald (Code: 101)\n",
      "To Kill a Mockingbird by Harper Lee (Code: 102)\n",
      "1984 by George Orwell (Code: 103)\n"
     ]
    }
   ],
   "source": [
    "lab.display_available_book()"
   ]
  },
  {
   "cell_type": "code",
   "execution_count": 6,
   "id": "ad10196a-da6c-4e32-94dd-508bd56ef47c",
   "metadata": {},
   "outputs": [
    {
     "data": {
      "text/plain": [
       "'Already borrow the book: The Great Gatsby by F. Scott Fitzgerald (Code: 101)'"
      ]
     },
     "execution_count": 6,
     "metadata": {},
     "output_type": "execute_result"
    }
   ],
   "source": [
    "lab.borrow_book(book1)"
   ]
  },
  {
   "cell_type": "code",
   "execution_count": 7,
   "id": "1be958ca-8086-41b7-8abd-1d76eab799c1",
   "metadata": {},
   "outputs": [
    {
     "data": {
      "text/plain": [
       "'Already returned the book: To Kill a Mockingbird by Harper Lee (Code: 102)'"
      ]
     },
     "execution_count": 7,
     "metadata": {},
     "output_type": "execute_result"
    }
   ],
   "source": [
    "lab.return_book(book2)"
   ]
  },
  {
   "cell_type": "markdown",
   "id": "c39b5fe0-8122-4eae-a287-c0b9ebe198a4",
   "metadata": {},
   "source": [
    "### Problem 5: Product Inventory Create classes representing a product and an inventory system. Implement methods to add products to the inventory, update product quantity, and display available products."
   ]
  },
  {
   "cell_type": "code",
   "execution_count": 18,
   "id": "39a5ebd3-b07c-44fe-a701-f64d04063a03",
   "metadata": {},
   "outputs": [],
   "source": [
    "class product :\n",
    "    def __init__(self, product_id, product_name, price, quantity):\n",
    "        self.product_id = product_id\n",
    "        self.product_name = product_name \n",
    "        self.price = price\n",
    "        self.quantity = quantity\n",
    "        \n",
    "    def update_product_quantity(self, new_quantity):\n",
    "        self.quantity += new_quantity\n",
    "        \n",
    "    def __str__(self):\n",
    "        return f\"Product ID: {self.product_id}, Product Name: {self.product_name}, Product Price: {self.price}, Quantity: {self.quantity}\"\n",
    "    \n",
    "class inventory(product) :\n",
    "    def __init__(self) :\n",
    "        self.products = {}\n",
    "    \n",
    "    def add_product(self, product) :\n",
    "        if product.product_id not in self.products:\n",
    "            self.products[product.product_id] = product\n",
    "        else:\n",
    "            print(\"Product already exists\")\n",
    "            \n",
    "    def display_available_products(self):\n",
    "        print(\"Available products:\")\n",
    "        for product in self.products.values():\n",
    "            print(product)"
   ]
  },
  {
   "cell_type": "code",
   "execution_count": 19,
   "id": "a09f703d-1087-47bf-a300-a582420e4bee",
   "metadata": {},
   "outputs": [],
   "source": [
    "product1 = product(1,\"product A\", 15, 200)\n",
    "product2 = product(2,\"product B\", 20, 150)\n",
    "product3 = product(3, \"product C\",25, 100)"
   ]
  },
  {
   "cell_type": "code",
   "execution_count": 20,
   "id": "517302b4-f21d-4cdf-a114-19e2bbf15842",
   "metadata": {},
   "outputs": [],
   "source": [
    "Inventory = inventory()"
   ]
  },
  {
   "cell_type": "code",
   "execution_count": 21,
   "id": "1ea0b04d-0970-4b0a-802f-bc3757b4a228",
   "metadata": {},
   "outputs": [],
   "source": [
    "Inventory.add_product(product1)\n",
    "Inventory.add_product(product2)\n",
    "Inventory.add_product(product3)"
   ]
  },
  {
   "cell_type": "code",
   "execution_count": 22,
   "id": "6e69b73c-1aec-4902-963d-10a7df2c50b8",
   "metadata": {},
   "outputs": [
    {
     "name": "stdout",
     "output_type": "stream",
     "text": [
      "Available products:\n",
      "Product ID: 1, Product Name: product A, Product Price: 15, Quantity: 200\n",
      "Product ID: 2, Product Name: product B, Product Price: 20, Quantity: 150\n",
      "Product ID: 3, Product Name: product C, Product Price: 25, Quantity: 100\n"
     ]
    }
   ],
   "source": [
    "Inventory.display_available_products()"
   ]
  },
  {
   "cell_type": "code",
   "execution_count": 23,
   "id": "04e1f531-5bac-439e-81ee-34f2101af723",
   "metadata": {},
   "outputs": [],
   "source": [
    "product1.update_product_quantity(5)"
   ]
  },
  {
   "cell_type": "code",
   "execution_count": 24,
   "id": "ee149cd1-5c6b-4d27-bae8-8fd670a88fd1",
   "metadata": {},
   "outputs": [
    {
     "name": "stdout",
     "output_type": "stream",
     "text": [
      "Available products:\n",
      "Product ID: 1, Product Name: product A, Product Price: 15, Quantity: 205\n",
      "Product ID: 2, Product Name: product B, Product Price: 20, Quantity: 150\n",
      "Product ID: 3, Product Name: product C, Product Price: 25, Quantity: 100\n"
     ]
    }
   ],
   "source": [
    "Inventory.display_available_products()"
   ]
  },
  {
   "cell_type": "markdown",
   "id": "e48008d3-8930-4d5d-9276-e408a1e707ef",
   "metadata": {},
   "source": [
    "### Problem 6: Shape Calculation Create a class representing a shape with attributes like length, width, and height. Implement methods to calculate the area and perimeter of the shape."
   ]
  },
  {
   "cell_type": "code",
   "execution_count": 7,
   "id": "d2c804f0-a051-4c70-b894-9127cef714d0",
   "metadata": {},
   "outputs": [],
   "source": [
    "class shape :\n",
    "    \n",
    "    def __init__(self, length, width, height):\n",
    "        self.length = length\n",
    "        self.width = width\n",
    "        self.height = height\n",
    "        \n",
    "    def rectangle(self):\n",
    "        area = self.length * self.width\n",
    "        perimeter = 2 * (self.length + self.width)\n",
    "        print(f\"Area of rectangle:{area} \\nPerimeter of rectangle:{perimeter}\")\n",
    "        \n",
    "    def square(self):\n",
    "        area = self.length**2\n",
    "        perimeter = 4*self.length\n",
    "        print(f\"Area of square:{area} \\nPerimeter of square:{perimeter}\")\n",
    "        \n",
    "    def circle(self):\n",
    "        import math\n",
    "        area = math.pi * (self.length * self.length)\n",
    "        perimeter = 2*math.pi*(self.length)\n",
    "        print(f\"Area of circle:{area:.4f} \\nPerimeter of circle:{perimeter:.4f}\")\n",
    "        \n",
    "    def triangle(self):\n",
    "        area = 0.5 * self.height * self.length\n",
    "        print(f\"Area of triangle:{area} \\nPerimeter of triangle:{None}\")"
   ]
  },
  {
   "cell_type": "code",
   "execution_count": 8,
   "id": "4be0a09c-8600-429c-b7f9-f8dc8b554f79",
   "metadata": {},
   "outputs": [],
   "source": [
    "a = shape(2,3,5)"
   ]
  },
  {
   "cell_type": "code",
   "execution_count": 9,
   "id": "f854f86a-0f7d-46e0-9f15-da9a0fa08bf2",
   "metadata": {},
   "outputs": [
    {
     "name": "stdout",
     "output_type": "stream",
     "text": [
      "Area of square:4 \n",
      "Perimeter of square:8\n"
     ]
    }
   ],
   "source": [
    "a.square()"
   ]
  },
  {
   "cell_type": "code",
   "execution_count": 10,
   "id": "d43b64d4-078d-462f-80d9-3f4e2c657d33",
   "metadata": {},
   "outputs": [
    {
     "name": "stdout",
     "output_type": "stream",
     "text": [
      "Area of rectangle:6 \n",
      "Perimeter of rectangle:10\n"
     ]
    }
   ],
   "source": [
    "a.rectangle()"
   ]
  },
  {
   "cell_type": "code",
   "execution_count": 11,
   "id": "7a5c44c8-91fa-46cf-9106-2e2763826b19",
   "metadata": {},
   "outputs": [
    {
     "name": "stdout",
     "output_type": "stream",
     "text": [
      "Area of circle:12.5664 \n",
      "Perimeter of circle:12.5664\n"
     ]
    }
   ],
   "source": [
    "a.circle()"
   ]
  },
  {
   "cell_type": "code",
   "execution_count": 12,
   "id": "de7eadac-98fb-4dac-b153-c4113057fa01",
   "metadata": {},
   "outputs": [
    {
     "name": "stdout",
     "output_type": "stream",
     "text": [
      "Area of triangle:5.0 \n",
      "Perimeter of triangle:None\n"
     ]
    }
   ],
   "source": [
    "a.triangle()"
   ]
  },
  {
   "cell_type": "markdown",
   "id": "1f5e6720-fa08-4ecb-9b79-3f2280c16039",
   "metadata": {},
   "source": [
    "### Problem 7: Student Management Create a class representing a student with attributes like student ID, name, and grades. Implement methods to calculate the average grade and display student details."
   ]
  },
  {
   "cell_type": "code",
   "execution_count": 6,
   "id": "ba4085ed-8dab-42c2-a3a7-d554d18e906e",
   "metadata": {},
   "outputs": [],
   "source": [
    "class student :\n",
    "    \n",
    "    def __init__(self, student_id, name, grade):\n",
    "        self.student_id = student_id\n",
    "        self.name = name\n",
    "        self.grades = grade\n",
    "\n",
    "    def student_details(self):\n",
    "        return f\"Student id:{self.student_id} Student name:{self.name} Student Grades:{self.grades}\"\n",
    "    \n",
    "    def average_grades(self):\n",
    "        if len(self.grades) == 0:\n",
    "            return \"No grades added\"\n",
    "        else:\n",
    "            grade = sum(self.grades)/len(self.grades)\n",
    "            return f\"Average grade of {self.name} is {grade:.3f}\""
   ]
  },
  {
   "cell_type": "code",
   "execution_count": 7,
   "id": "3c2fb6c4-9d4d-4443-99c0-30d8dc7a2a9d",
   "metadata": {},
   "outputs": [],
   "source": [
    "student1 = student(\"A3\", \"Sam\", [23, 32, 20])"
   ]
  },
  {
   "cell_type": "code",
   "execution_count": 8,
   "id": "61c79eb3-f69b-4f1d-956d-7ec20e4b38fb",
   "metadata": {},
   "outputs": [
    {
     "data": {
      "text/plain": [
       "'Student id:A3 Student name:Sam Student Grades:[23, 32, 20]'"
      ]
     },
     "execution_count": 8,
     "metadata": {},
     "output_type": "execute_result"
    }
   ],
   "source": [
    "student1.student_details()"
   ]
  },
  {
   "cell_type": "code",
   "execution_count": 9,
   "id": "c7a6a3c0-cc6f-4c19-807b-3c5621df4800",
   "metadata": {},
   "outputs": [
    {
     "data": {
      "text/plain": [
       "'Average grade of Sam is 25.000'"
      ]
     },
     "execution_count": 9,
     "metadata": {},
     "output_type": "execute_result"
    }
   ],
   "source": [
    "student1.average_grades()"
   ]
  },
  {
   "cell_type": "markdown",
   "id": "78a22b19-0f35-436b-b353-8bdf0b695dcc",
   "metadata": {},
   "source": [
    "### Problem 8: Email Management Create a class representing an email with attributes like sender, recipient, and subject. Implement methods to send an email and display email details."
   ]
  },
  {
   "cell_type": "code",
   "execution_count": 14,
   "id": "aca205cf-47b5-49e3-bc83-94cde2b6ab15",
   "metadata": {},
   "outputs": [],
   "source": [
    "class email :\n",
    "\n",
    "    def __init__(self, sender, recipient, subject, message, sent=True):\n",
    "        self.sender = sender\n",
    "        self.recipient = recipient\n",
    "        self.subject = subject\n",
    "        self.message = message\n",
    "        self.sent = sent\n",
    "\n",
    "    def details_email(self):\n",
    "        print(\"Sender:\",self.sender)\n",
    "        print(\"Recipient:\",self.recipient)\n",
    "        print(\"Subject:\",self.subject)\n",
    "        print(\"Message:\",self.message)\n",
    "\n",
    "    def check_mail_sent(self):\n",
    "        if self.sent :\n",
    "            self.sent = False\n",
    "            print(\"Your mail is send\")\n",
    "        else :\n",
    "            print(\"Your mail is already sent\")"
   ]
  },
  {
   "cell_type": "code",
   "execution_count": 15,
   "id": "f949d45a-97f1-4ef5-8b03-1697ef1b1dde",
   "metadata": {},
   "outputs": [],
   "source": [
    "email1 = email(\"sender12@gmail.com\", \"recipient123@gmail.com\", \"Test mail\", \"Hello\")"
   ]
  },
  {
   "cell_type": "code",
   "execution_count": 16,
   "id": "b0ed5fc1-f040-4b53-af85-0400961a3662",
   "metadata": {},
   "outputs": [
    {
     "name": "stdout",
     "output_type": "stream",
     "text": [
      "Sender: sender12@gmail.com\n",
      "Recipient: recipient123@gmail.com\n",
      "Subject: Test mail\n",
      "Message: Hello\n"
     ]
    }
   ],
   "source": [
    "email1.details_email()"
   ]
  },
  {
   "cell_type": "code",
   "execution_count": 17,
   "id": "453c39a0-924b-4d39-a401-4e6b32675431",
   "metadata": {},
   "outputs": [
    {
     "name": "stdout",
     "output_type": "stream",
     "text": [
      "Your mail is send\n"
     ]
    }
   ],
   "source": [
    "email1.check_mail_sent()"
   ]
  },
  {
   "cell_type": "code",
   "execution_count": 18,
   "id": "85ab0171-e748-4f96-b38f-0033682aed30",
   "metadata": {},
   "outputs": [
    {
     "name": "stdout",
     "output_type": "stream",
     "text": [
      "Your mail is already sent\n"
     ]
    }
   ],
   "source": [
    "email1.check_mail_sent()"
   ]
  },
  {
   "cell_type": "markdown",
   "id": "3b5a4d20-4884-478e-85e4-6256333832a9",
   "metadata": {},
   "source": [
    "### Problem 9: Social Media Profile Create a class representing a social media profile with attributes like username and posts. Implement methods to add posts, display posts, and search for posts by keyword."
   ]
  },
  {
   "cell_type": "code",
   "execution_count": 33,
   "id": "5d2a8828-75c0-4aff-934d-c511c34644b4",
   "metadata": {},
   "outputs": [],
   "source": [
    "class social_media :\n",
    "    \n",
    "    def __init__(self, user_name, post = []):\n",
    "        self.user_name = user_name\n",
    "        self.post = post\n",
    "        \n",
    "    def add_post(self, post):\n",
    "        self.post.append(post)\n",
    "        \n",
    "    def display_post(self):\n",
    "        print(\"Username:\",self.user_name)\n",
    "        print(\"Post:\\n\",self.post)\n",
    "        \n",
    "    def search_post(self, keyword):\n",
    "        lst = [post for post in self.post if keyword in post]\n",
    "        if lst :\n",
    "            print(\"Post by:\",self.user_name)\n",
    "            print(\"Post:\")\n",
    "            for i in lst:\n",
    "                print(i)\n",
    "        else :\n",
    "            print(\"Post not found!\")\n",
    "            "
   ]
  },
  {
   "cell_type": "code",
   "execution_count": 34,
   "id": "ed6d9fb5-0065-40d0-801f-88d57b1de841",
   "metadata": {},
   "outputs": [],
   "source": [
    "alice = social_media(\"Alice\")"
   ]
  },
  {
   "cell_type": "code",
   "execution_count": 35,
   "id": "538e3278-8843-4ce0-84ca-1e5384fafddc",
   "metadata": {},
   "outputs": [],
   "source": [
    "alice.add_post(\"Enjoying vacation on beach\")\n",
    "alice.add_post(\"Exploring new things\")\n",
    "alice.add_post(\"Enjoying dinner with family with nice view of beach\")"
   ]
  },
  {
   "cell_type": "code",
   "execution_count": 36,
   "id": "20477bd9-beb0-4e93-b919-a05895a48193",
   "metadata": {},
   "outputs": [
    {
     "name": "stdout",
     "output_type": "stream",
     "text": [
      "Post by: Alice\n",
      "Post:\n",
      "Enjoying vacation on beach\n",
      "Enjoying dinner with family with nice view of beach\n"
     ]
    }
   ],
   "source": [
    "alice.search_post(\"beach\")"
   ]
  },
  {
   "cell_type": "markdown",
   "id": "1c45460e-7343-4ae9-956d-313ff8f16055",
   "metadata": {},
   "source": [
    "### Problem 10: ToDo List Create a class representing a ToDo list with attributes like tasks and due dates. Implement methods to add tasks, mark tasks as completed, and display pending tasks."
   ]
  },
  {
   "cell_type": "code",
   "execution_count": 16,
   "id": "7203cb26-40e0-40d0-a47e-e3a4c5e0ce80",
   "metadata": {},
   "outputs": [],
   "source": [
    "class ToDo_list :\n",
    "    \n",
    "    def __init__(self):\n",
    "        self.task = {}\n",
    "    \n",
    "    def add_task(self, task, due_date):\n",
    "        self.task[task] = due_date\n",
    "        \n",
    "    def mark_task_as_completed(self, task):\n",
    "        if task in self.task :\n",
    "            del self.task[task]\n",
    "        else:\n",
    "            print(f\"{task} is not found in the list:\")\n",
    "            \n",
    "    def display_pending_task(self):\n",
    "        if self.task:\n",
    "            for task,due_date in self.task.items():\n",
    "                print(f\"Task: {task}  (Due Date: {due_date})\")\n",
    "        else:\n",
    "            print(\"No pending task\")"
   ]
  },
  {
   "cell_type": "code",
   "execution_count": 17,
   "id": "0fa941f4-7292-48d7-b022-9d9d41c8432a",
   "metadata": {},
   "outputs": [],
   "source": [
    "user = ToDo_list()"
   ]
  },
  {
   "cell_type": "code",
   "execution_count": 18,
   "id": "1248fcb7-7c8a-4377-8dc4-c6c64a738d74",
   "metadata": {},
   "outputs": [],
   "source": [
    "user.add_task(\"Doctor's appoinment\", \"11-10-2023\")\n",
    "user.add_task(\"Finish the project\", \"12-10-2023\")\n",
    "user.add_task(\"Buy Vegetables\", \"13-10-2023\")"
   ]
  },
  {
   "cell_type": "code",
   "execution_count": 19,
   "id": "823f73b3-9be1-4f5e-ac9a-b3c95566183a",
   "metadata": {},
   "outputs": [
    {
     "name": "stdout",
     "output_type": "stream",
     "text": [
      "Task: Doctor's appoinment  (Due Date: 11-10-2023)\n",
      "Task: Finish the project  (Due Date: 12-10-2023)\n",
      "Task: Buy Vegetables  (Due Date: 13-10-2023)\n"
     ]
    }
   ],
   "source": [
    "user.display_pending_task()"
   ]
  },
  {
   "cell_type": "code",
   "execution_count": 20,
   "id": "d9d36a8b-88d1-4157-b0f9-4eac5df16bb6",
   "metadata": {},
   "outputs": [],
   "source": [
    "user.mark_task_as_completed(\"Buy Vegetables\")"
   ]
  },
  {
   "cell_type": "code",
   "execution_count": 21,
   "id": "680635d2-18ad-4505-b35b-204f2727e442",
   "metadata": {},
   "outputs": [
    {
     "name": "stdout",
     "output_type": "stream",
     "text": [
      "Task: Doctor's appoinment  (Due Date: 11-10-2023)\n",
      "Task: Finish the project  (Due Date: 12-10-2023)\n"
     ]
    }
   ],
   "source": [
    "user.display_pending_task()"
   ]
  }
 ],
 "metadata": {
  "kernelspec": {
   "display_name": "Python 3 (ipykernel)",
   "language": "python",
   "name": "python3"
  },
  "language_info": {
   "codemirror_mode": {
    "name": "ipython",
    "version": 3
   },
   "file_extension": ".py",
   "mimetype": "text/x-python",
   "name": "python",
   "nbconvert_exporter": "python",
   "pygments_lexer": "ipython3",
   "version": "3.10.8"
  }
 },
 "nbformat": 4,
 "nbformat_minor": 5
}
